{
 "cells": [
  {
   "cell_type": "markdown",
   "id": "4ad5af0c-80a6-414f-8468-462943545863",
   "metadata": {},
   "source": [
    "# Part 2: Basics"
   ]
  },
  {
   "cell_type": "markdown",
   "id": "2308716b-d497-40f7-bbfd-747a61d81a5b",
   "metadata": {},
   "source": [
    "## Recap"
   ]
  },
  {
   "cell_type": "code",
   "execution_count": 89,
   "id": "6ff97269-1645-400b-872e-a75c1f238aed",
   "metadata": {},
   "outputs": [],
   "source": [
    "# imports\n",
    "import numpy as np\n",
    "import pandas as pd\n",
    "from sklearn.linear_model import LogisticRegression"
   ]
  },
  {
   "cell_type": "code",
   "execution_count": 90,
   "id": "b1cedd0a-69f5-44aa-a4d0-7173f15ffcac",
   "metadata": {},
   "outputs": [],
   "source": [
    "# load data\n",
    "data_titanic = pd.read_csv(\"titanic.csv\", index_col=\"PassengerId\")"
   ]
  },
  {
   "cell_type": "code",
   "execution_count": 91,
   "id": "552ace9d-66b6-4fc9-a40f-cad5ee7af6ed",
   "metadata": {},
   "outputs": [
    {
     "data": {
      "text/html": [
       "<div>\n",
       "<style scoped>\n",
       "    .dataframe tbody tr th:only-of-type {\n",
       "        vertical-align: middle;\n",
       "    }\n",
       "\n",
       "    .dataframe tbody tr th {\n",
       "        vertical-align: top;\n",
       "    }\n",
       "\n",
       "    .dataframe thead th {\n",
       "        text-align: right;\n",
       "    }\n",
       "</style>\n",
       "<table border=\"1\" class=\"dataframe\">\n",
       "  <thead>\n",
       "    <tr style=\"text-align: right;\">\n",
       "      <th></th>\n",
       "      <th>Survived</th>\n",
       "      <th>Pclass</th>\n",
       "      <th>Name</th>\n",
       "      <th>Sex</th>\n",
       "      <th>Age</th>\n",
       "      <th>SibSp</th>\n",
       "      <th>Parch</th>\n",
       "      <th>Ticket</th>\n",
       "      <th>Fare</th>\n",
       "      <th>Cabin</th>\n",
       "      <th>Embarked</th>\n",
       "    </tr>\n",
       "    <tr>\n",
       "      <th>PassengerId</th>\n",
       "      <th></th>\n",
       "      <th></th>\n",
       "      <th></th>\n",
       "      <th></th>\n",
       "      <th></th>\n",
       "      <th></th>\n",
       "      <th></th>\n",
       "      <th></th>\n",
       "      <th></th>\n",
       "      <th></th>\n",
       "      <th></th>\n",
       "    </tr>\n",
       "  </thead>\n",
       "  <tbody>\n",
       "    <tr>\n",
       "      <th>1</th>\n",
       "      <td>0</td>\n",
       "      <td>3</td>\n",
       "      <td>Braund, Mr. Owen Harris</td>\n",
       "      <td>male</td>\n",
       "      <td>22.0</td>\n",
       "      <td>1</td>\n",
       "      <td>0</td>\n",
       "      <td>A/5 21171</td>\n",
       "      <td>7.2500</td>\n",
       "      <td>NaN</td>\n",
       "      <td>S</td>\n",
       "    </tr>\n",
       "    <tr>\n",
       "      <th>2</th>\n",
       "      <td>1</td>\n",
       "      <td>1</td>\n",
       "      <td>Cumings, Mrs. John Bradley (Florence Briggs Th...</td>\n",
       "      <td>female</td>\n",
       "      <td>38.0</td>\n",
       "      <td>1</td>\n",
       "      <td>0</td>\n",
       "      <td>PC 17599</td>\n",
       "      <td>71.2833</td>\n",
       "      <td>C85</td>\n",
       "      <td>C</td>\n",
       "    </tr>\n",
       "    <tr>\n",
       "      <th>3</th>\n",
       "      <td>1</td>\n",
       "      <td>3</td>\n",
       "      <td>Heikkinen, Miss. Laina</td>\n",
       "      <td>female</td>\n",
       "      <td>26.0</td>\n",
       "      <td>0</td>\n",
       "      <td>0</td>\n",
       "      <td>STON/O2. 3101282</td>\n",
       "      <td>7.9250</td>\n",
       "      <td>NaN</td>\n",
       "      <td>S</td>\n",
       "    </tr>\n",
       "    <tr>\n",
       "      <th>4</th>\n",
       "      <td>1</td>\n",
       "      <td>1</td>\n",
       "      <td>Futrelle, Mrs. Jacques Heath (Lily May Peel)</td>\n",
       "      <td>female</td>\n",
       "      <td>35.0</td>\n",
       "      <td>1</td>\n",
       "      <td>0</td>\n",
       "      <td>113803</td>\n",
       "      <td>53.1000</td>\n",
       "      <td>C123</td>\n",
       "      <td>S</td>\n",
       "    </tr>\n",
       "    <tr>\n",
       "      <th>5</th>\n",
       "      <td>0</td>\n",
       "      <td>3</td>\n",
       "      <td>Allen, Mr. William Henry</td>\n",
       "      <td>male</td>\n",
       "      <td>35.0</td>\n",
       "      <td>0</td>\n",
       "      <td>0</td>\n",
       "      <td>373450</td>\n",
       "      <td>8.0500</td>\n",
       "      <td>NaN</td>\n",
       "      <td>S</td>\n",
       "    </tr>\n",
       "  </tbody>\n",
       "</table>\n",
       "</div>"
      ],
      "text/plain": [
       "             Survived  Pclass  \\\n",
       "PassengerId                     \n",
       "1                   0       3   \n",
       "2                   1       1   \n",
       "3                   1       3   \n",
       "4                   1       1   \n",
       "5                   0       3   \n",
       "\n",
       "                                                          Name     Sex   Age  \\\n",
       "PassengerId                                                                    \n",
       "1                                      Braund, Mr. Owen Harris    male  22.0   \n",
       "2            Cumings, Mrs. John Bradley (Florence Briggs Th...  female  38.0   \n",
       "3                                       Heikkinen, Miss. Laina  female  26.0   \n",
       "4                 Futrelle, Mrs. Jacques Heath (Lily May Peel)  female  35.0   \n",
       "5                                     Allen, Mr. William Henry    male  35.0   \n",
       "\n",
       "             SibSp  Parch            Ticket     Fare Cabin Embarked  \n",
       "PassengerId                                                          \n",
       "1                1      0         A/5 21171   7.2500   NaN        S  \n",
       "2                1      0          PC 17599  71.2833   C85        C  \n",
       "3                0      0  STON/O2. 3101282   7.9250   NaN        S  \n",
       "4                1      0            113803  53.1000  C123        S  \n",
       "5                0      0            373450   8.0500   NaN        S  "
      ]
     },
     "execution_count": 91,
     "metadata": {},
     "output_type": "execute_result"
    }
   ],
   "source": [
    "data_titanic.head(5)"
   ]
  },
  {
   "cell_type": "code",
   "execution_count": 92,
   "id": "e0e8584b-4b17-4965-b355-efcfa0bc6f3b",
   "metadata": {},
   "outputs": [],
   "source": [
    "# define input\n",
    "# * drop our target \"Survived\"\n",
    "# * only select numbers\n",
    "# * drop samples with undefined values (only in column \"Age\" in our case)\n",
    "X = data_titanic.drop(columns=\"Survived\").select_dtypes(np.number).dropna()\n",
    "\n",
    "# define our target/output and only select those samples left in X\n",
    "y = data_titanic[\"Survived\"][X.index]"
   ]
  },
  {
   "cell_type": "code",
   "execution_count": 93,
   "id": "631c2e2d-f706-4e78-83af-52a5de16bfd8",
   "metadata": {},
   "outputs": [
    {
     "data": {
      "text/html": [
       "<div>\n",
       "<style scoped>\n",
       "    .dataframe tbody tr th:only-of-type {\n",
       "        vertical-align: middle;\n",
       "    }\n",
       "\n",
       "    .dataframe tbody tr th {\n",
       "        vertical-align: top;\n",
       "    }\n",
       "\n",
       "    .dataframe thead th {\n",
       "        text-align: right;\n",
       "    }\n",
       "</style>\n",
       "<table border=\"1\" class=\"dataframe\">\n",
       "  <thead>\n",
       "    <tr style=\"text-align: right;\">\n",
       "      <th></th>\n",
       "      <th>Pclass</th>\n",
       "      <th>Age</th>\n",
       "      <th>SibSp</th>\n",
       "      <th>Parch</th>\n",
       "      <th>Fare</th>\n",
       "    </tr>\n",
       "    <tr>\n",
       "      <th>PassengerId</th>\n",
       "      <th></th>\n",
       "      <th></th>\n",
       "      <th></th>\n",
       "      <th></th>\n",
       "      <th></th>\n",
       "    </tr>\n",
       "  </thead>\n",
       "  <tbody>\n",
       "    <tr>\n",
       "      <th>1</th>\n",
       "      <td>3</td>\n",
       "      <td>22.0</td>\n",
       "      <td>1</td>\n",
       "      <td>0</td>\n",
       "      <td>7.2500</td>\n",
       "    </tr>\n",
       "    <tr>\n",
       "      <th>2</th>\n",
       "      <td>1</td>\n",
       "      <td>38.0</td>\n",
       "      <td>1</td>\n",
       "      <td>0</td>\n",
       "      <td>71.2833</td>\n",
       "    </tr>\n",
       "    <tr>\n",
       "      <th>3</th>\n",
       "      <td>3</td>\n",
       "      <td>26.0</td>\n",
       "      <td>0</td>\n",
       "      <td>0</td>\n",
       "      <td>7.9250</td>\n",
       "    </tr>\n",
       "    <tr>\n",
       "      <th>4</th>\n",
       "      <td>1</td>\n",
       "      <td>35.0</td>\n",
       "      <td>1</td>\n",
       "      <td>0</td>\n",
       "      <td>53.1000</td>\n",
       "    </tr>\n",
       "    <tr>\n",
       "      <th>5</th>\n",
       "      <td>3</td>\n",
       "      <td>35.0</td>\n",
       "      <td>0</td>\n",
       "      <td>0</td>\n",
       "      <td>8.0500</td>\n",
       "    </tr>\n",
       "  </tbody>\n",
       "</table>\n",
       "</div>"
      ],
      "text/plain": [
       "             Pclass   Age  SibSp  Parch     Fare\n",
       "PassengerId                                     \n",
       "1                 3  22.0      1      0   7.2500\n",
       "2                 1  38.0      1      0  71.2833\n",
       "3                 3  26.0      0      0   7.9250\n",
       "4                 1  35.0      1      0  53.1000\n",
       "5                 3  35.0      0      0   8.0500"
      ]
     },
     "execution_count": 93,
     "metadata": {},
     "output_type": "execute_result"
    }
   ],
   "source": [
    "X.head(5)"
   ]
  },
  {
   "cell_type": "code",
   "execution_count": 94,
   "id": "76dff851-8774-4fab-9bb6-3b55863c90c9",
   "metadata": {},
   "outputs": [
    {
     "data": {
      "text/plain": [
       "LogisticRegression()"
      ]
     },
     "execution_count": 94,
     "metadata": {},
     "output_type": "execute_result"
    }
   ],
   "source": [
    "# select and fit out model\n",
    "model = LogisticRegression()\n",
    "model.fit(X, y)"
   ]
  },
  {
   "cell_type": "code",
   "execution_count": 95,
   "id": "6e686b27-48b5-4bed-9dd5-e303236bf8f5",
   "metadata": {},
   "outputs": [
    {
     "data": {
      "text/plain": [
       "array([0, 1, 0, 1, 0])"
      ]
     },
     "execution_count": 95,
     "metadata": {},
     "output_type": "execute_result"
    }
   ],
   "source": [
    "# make predictions\n",
    "y_pred = model.predict(X)\n",
    "y_pred[:5]"
   ]
  },
  {
   "cell_type": "markdown",
   "id": "ba72ae25-ee87-4180-be16-2186b6998a07",
   "metadata": {},
   "source": [
    "## Connecting `LogisticRegression` to formulas in the script"
   ]
  },
  {
   "cell_type": "code",
   "execution_count": 98,
   "id": "2ee2664e-732e-46fb-9f41-c7f209f132ab",
   "metadata": {},
   "outputs": [
    {
     "data": {
      "text/plain": [
       "array([[0.78448636, 0.21551364],\n",
       "       [0.38056441, 0.61943559],\n",
       "       [0.76449122, 0.23550878],\n",
       "       [0.36473681, 0.63526319],\n",
       "       [0.82817097, 0.17182903]])"
      ]
     },
     "execution_count": 98,
     "metadata": {},
     "output_type": "execute_result"
    }
   ],
   "source": [
    "# logistic regression returns \"probabilities\" \n",
    "# each lines shows the probability for [NOT \"Survived\", \"Survived\"]\n",
    "y_pred_proba = model.predict_proba(X)\n",
    "y_pred_proba[:5,:]"
   ]
  },
  {
   "cell_type": "markdown",
   "id": "c877d49b-0c5e-434d-8969-6d1c09b1188f",
   "metadata": {},
   "source": [
    "How are these probabilities derived?\n",
    "\n",
    "* Remember the formula for logistic regression: $y_i = \\beta_0 + \\beta_1 x_1 + \\beta_2 x_2 + ... \\beta_m x_m$\n",
    "* As well as the logistic function: $f(x) = \\frac{1}{1 + e^{-x}}$"
   ]
  },
  {
   "cell_type": "code",
   "execution_count": 119,
   "id": "7cefc9f0-6279-4c1c-977c-6388d1b7dfd5",
   "metadata": {},
   "outputs": [],
   "source": [
    "# first extract betas from the fit LogisticRegression model\n",
    "beta0 = model.intercept_\n",
    "betas = model.coef_"
   ]
  },
  {
   "cell_type": "code",
   "execution_count": 106,
   "id": "c6020879-298c-4485-a470-53b69fde6423",
   "metadata": {},
   "outputs": [
    {
     "data": {
      "text/plain": [
       "PassengerId\n",
       "1     -1.292005\n",
       "2      0.487153\n",
       "3     -1.177462\n",
       "4      0.554863\n",
       "5     -1.572720\n",
       "         ...   \n",
       "886   -0.470285\n",
       "887   -0.075225\n",
       "888    1.464807\n",
       "890    1.157042\n",
       "891   -1.441879\n",
       "Length: 714, dtype: float64"
      ]
     },
     "execution_count": 106,
     "metadata": {},
     "output_type": "execute_result"
    }
   ],
   "source": [
    "# apply linear regression formula\n",
    "results = beta0 + np.sum(betas * X, axis=1)\n",
    "results"
   ]
  },
  {
   "cell_type": "code",
   "execution_count": 111,
   "id": "579609e6-8319-4c4b-a83c-d6c50a512301",
   "metadata": {},
   "outputs": [],
   "source": [
    "# apply logistic formula\n",
    "def logistic(x):\n",
    "    return 1 / (1 + np.exp(-x))\n",
    "results_logistic = logistic(results)"
   ]
  },
  {
   "cell_type": "code",
   "execution_count": 120,
   "id": "5a0299c4-a477-40c1-8f02-6f7edee395dd",
   "metadata": {},
   "outputs": [
    {
     "name": "stdout",
     "output_type": "stream",
     "text": [
      "[0.21551364 0.61943559 0.23550878 0.63526319 0.17182903]\n",
      "[0.21551364 0.61943559 0.23550878 0.63526319 0.17182903]\n"
     ]
    }
   ],
   "source": [
    "# compare probabilities for `Survived` from the model and the ones we calculated\n",
    "print(y_pred_proba[:5,1])\n",
    "print(results_logistic.head(5).values)"
   ]
  },
  {
   "cell_type": "markdown",
   "id": "6b634f02-bebd-4453-b0be-4fea75fd61d3",
   "metadata": {},
   "source": [
    "## Evaluation measures\n",
    "\n",
    "How to evaluate models? We compare the correct class with the prediction values (which can either be a class or a probability for the target class). There are many different mesasures."
   ]
  },
  {
   "cell_type": "code",
   "execution_count": 32,
   "id": "3d3ace5a-e45c-4bfa-9df3-ddb768a0c730",
   "metadata": {},
   "outputs": [
    {
     "data": {
      "text/plain": [
       "array([0, 1, 1, 1, 0])"
      ]
     },
     "execution_count": 32,
     "metadata": {},
     "output_type": "execute_result"
    }
   ],
   "source": [
    "# inspect the correct class\n",
    "y.values[:5]"
   ]
  },
  {
   "cell_type": "code",
   "execution_count": 121,
   "id": "704abf37-ea39-4ac7-ac3e-236bb62a1dc4",
   "metadata": {},
   "outputs": [
    {
     "data": {
      "text/plain": [
       "array([0, 1, 0, 1, 0])"
      ]
     },
     "execution_count": 121,
     "metadata": {},
     "output_type": "execute_result"
    }
   ],
   "source": [
    "# inspect the predicted class\n",
    "y_pred[:5]"
   ]
  },
  {
   "cell_type": "code",
   "execution_count": 125,
   "id": "8f4737d4-bf9a-4645-89fc-c77acb38ca65",
   "metadata": {},
   "outputs": [],
   "source": [
    "# several scores when the prediction is a class (not a probability)\n",
    "from sklearn.metrics import accuracy_score, precision_score, recall_score"
   ]
  },
  {
   "cell_type": "markdown",
   "id": "2dca2cfb-0ceb-4804-9a8a-cbd4a2eae2c4",
   "metadata": {},
   "source": [
    "$accuracy = \\frac{\\text{true positives} ~+~ \\text{true negatives}}{\\text{number of samples}}$"
   ]
  },
  {
   "cell_type": "code",
   "execution_count": 128,
   "id": "adabe58d-2c0a-4006-a69d-0ee6914cb067",
   "metadata": {},
   "outputs": [
    {
     "data": {
      "text/plain": [
       "0.7002801120448179"
      ]
     },
     "execution_count": 128,
     "metadata": {},
     "output_type": "execute_result"
    }
   ],
   "source": [
    "accuracy_score(y, y_pred)"
   ]
  },
  {
   "cell_type": "markdown",
   "id": "35bfc99e-612e-49ed-96c1-fa30cced7409",
   "metadata": {},
   "source": [
    "$precision = \\frac{\\text{true positives}}{\\text{true positives} ~+~ \\text{false positives}}$"
   ]
  },
  {
   "cell_type": "code",
   "execution_count": 129,
   "id": "420e240b-c5ec-4f07-a5b5-4efeab39fa65",
   "metadata": {},
   "outputs": [
    {
     "data": {
      "text/plain": [
       "0.6696428571428571"
      ]
     },
     "execution_count": 129,
     "metadata": {},
     "output_type": "execute_result"
    }
   ],
   "source": [
    "precision_score(y, y_pred)"
   ]
  },
  {
   "cell_type": "markdown",
   "id": "672a8cfb-5232-4537-acbc-067973f71084",
   "metadata": {},
   "source": [
    "$recall = \\frac{\\text{true positives}}{\\text{true positives} ~+~ \\text{false negatives}}$"
   ]
  },
  {
   "cell_type": "code",
   "execution_count": 37,
   "id": "102da426-7852-44d8-9e60-13a9ca02e274",
   "metadata": {},
   "outputs": [
    {
     "data": {
      "text/plain": [
       "0.6696428571428571"
      ]
     },
     "execution_count": 37,
     "metadata": {},
     "output_type": "execute_result"
    }
   ],
   "source": [
    "recall_score(y_pred, y)"
   ]
  },
  {
   "cell_type": "code",
   "execution_count": 132,
   "id": "eb01bb98-b2a0-4322-9049-7e3b27f22bde",
   "metadata": {},
   "outputs": [],
   "source": [
    "# AUC: scores for when the prediction is a probability\n",
    "from sklearn.metrics import roc_auc_score, roc_curve"
   ]
  },
  {
   "cell_type": "code",
   "execution_count": 154,
   "id": "bdb7fb30-ac17-42a8-b003-8ee39e8dd5dc",
   "metadata": {},
   "outputs": [
    {
     "data": {
      "text/plain": [
       "0.7586410214703969"
      ]
     },
     "execution_count": 154,
     "metadata": {},
     "output_type": "execute_result"
    }
   ],
   "source": [
    "auc = roc_auc_score(y, y_pred_proba[:,1])\n",
    "auc"
   ]
  },
  {
   "cell_type": "code",
   "execution_count": 157,
   "id": "35795dda-5287-495d-acf8-b928d7f203a9",
   "metadata": {},
   "outputs": [
    {
     "data": {
      "text/plain": [
       "<matplotlib.legend.Legend at 0x7fdc4ebb4d00>"
      ]
     },
     "execution_count": 157,
     "metadata": {},
     "output_type": "execute_result"
    },
    {
     "data": {
      "image/png": "[encoded data removed]",
      "text/plain": [
       "<Figure size 640x480 with 1 Axes>"
      ]
     },
     "metadata": {},
     "output_type": "display_data"
    }
   ],
   "source": [
    "import matplotlib.pyplot as plt\n",
    "fpr, tpr, thresholds = roc_curve(y, y_pred_proba[:,1], pos_label=1)\n",
    "\n",
    "fig, ax = plt.subplots()\n",
    "ax.plot(fpr, tpr, label=\"ROC curve\")\n",
    "ax.fill_between(fpr, tpr, color=\"lightblue\", label=f\"Area under the ROC curve (AUC={auc:.02f})\")\n",
    "ax.set(title=\"ROC AUC\", xlabel=\"false positive rate\", ylabel=\"true positive rate\")\n",
    "ax.legend()"
   ]
  },
  {
   "cell_type": "markdown",
   "id": "5fa3161c-6f81-4a3c-8b59-57d9f2c49d7f",
   "metadata": {},
   "source": [
    "## Validation"
   ]
  },
  {
   "cell_type": "code",
   "execution_count": 162,
   "id": "8b65f4e1-88cc-4219-8605-a34255010f86",
   "metadata": {},
   "outputs": [],
   "source": [
    "# before inspecting the data, selecting and building models, etc. \n",
    "# FIRST split data into train and test data (we set the test data size to 30%)\n",
    "from sklearn.model_selection import train_test_split\n",
    "X_train, X_test, y_train, y_test = train_test_split(X, y, test_size=0.3)"
   ]
  },
  {
   "cell_type": "markdown",
   "id": "3db3a679-0861-4e59-9ef9-119269663fab",
   "metadata": {},
   "source": [
    "### Approach 1: Validation set"
   ]
  },
  {
   "cell_type": "markdown",
   "id": "33b13a38-e324-44ca-b147-0590b7ab74eb",
   "metadata": {},
   "source": [
    "* split training into a smaller training and validation data\n",
    "* select, fit and evaluate model on training data\n",
    "* after finishing, test the model on the test data\n",
    "\n",
    "This approach is often used when the training data is large. Because we assume that the validation data is characteristically similar to the training data."
   ]
  },
  {
   "cell_type": "code",
   "execution_count": 241,
   "id": "4ccecc69-5f54-4487-8a72-4c259c06d29b",
   "metadata": {},
   "outputs": [],
   "source": [
    "# split training into a smaller training and a validation dataset\n",
    "X_train_small, X_val, y_train_small, y_val = train_test_split(X_train, y_train, test_size=0.3)"
   ]
  },
  {
   "cell_type": "code",
   "execution_count": 242,
   "id": "5e576ee9-8700-4231-b5f4-9b33248202d4",
   "metadata": {},
   "outputs": [
    {
     "data": {
      "text/plain": [
       "0.7553282182438193"
      ]
     },
     "execution_count": 242,
     "metadata": {},
     "output_type": "execute_result"
    }
   ],
   "source": [
    "# try first model\n",
    "from sklearn.linear_model import LogisticRegression\n",
    "model1 = LogisticRegression()\n",
    "model1.fit(X_train_small, y_train_small)\n",
    "y_pred_proba = model1.predict_proba(X_val)\n",
    "roc_auc_score(y_val, y_pred_proba[:,1])"
   ]
  },
  {
   "cell_type": "code",
   "execution_count": 243,
   "id": "187cd392-d448-43b8-8c32-0aaeb5b87871",
   "metadata": {},
   "outputs": [
    {
     "data": {
      "text/plain": [
       "0.6939471440750212"
      ]
     },
     "execution_count": 243,
     "metadata": {},
     "output_type": "execute_result"
    }
   ],
   "source": [
    "# try second model\n",
    "from sklearn.tree import DecisionTreeClassifier\n",
    "model2 = DecisionTreeClassifier()\n",
    "model2.fit(X_train_small, y_train_small)\n",
    "y_pred_proba = model2.predict_proba(X_val)\n",
    "roc_auc_score(y_val, y_pred_proba[:,1])"
   ]
  },
  {
   "cell_type": "code",
   "execution_count": 183,
   "id": "918a3e62-b5dc-44af-91c1-f4d2d9c06e4f",
   "metadata": {},
   "outputs": [
    {
     "data": {
      "text/plain": [
       "0.7247807017543859"
      ]
     },
     "execution_count": 183,
     "metadata": {},
     "output_type": "execute_result"
    }
   ],
   "source": [
    "# logistic regression is better, so retrain on the full training data an apply to test\n",
    "model1.fit(X_train, y_train)\n",
    "y_pred_proba = model1.predict_proba(X_test)\n",
    "roc_auc_score(y_test, y_pred_proba[:,1])"
   ]
  },
  {
   "cell_type": "markdown",
   "id": "a0742b93-6687-4bae-bf5a-78fa44306b15",
   "metadata": {},
   "source": [
    "### Approach 2: Cross-validation"
   ]
  },
  {
   "cell_type": "markdown",
   "id": "c8007159-d6f9-475c-bcf0-e79a1e95338a",
   "metadata": {},
   "source": [
    "* use cross validation to select, fit and evaluate model on training data\n",
    "* after finishing, refit the model on the whole training data, and test the model on the test data\n",
    "\n",
    "This approach is often used when not a lot of data is available. It ensures that the result is not dependent on a particular good or bad split."
   ]
  },
  {
   "cell_type": "code",
   "execution_count": 248,
   "id": "43d8444f-1a54-4d2c-a7bf-a810bced1240",
   "metadata": {},
   "outputs": [],
   "source": [
    "from sklearn.model_selection import cross_val_score"
   ]
  },
  {
   "cell_type": "code",
   "execution_count": 249,
   "id": "1bd05dc1-a31e-49b4-889d-de33c652ffe8",
   "metadata": {},
   "outputs": [
    {
     "data": {
      "text/plain": [
       "(0.7772837265577737, 0.049249803802039534)"
      ]
     },
     "execution_count": 249,
     "metadata": {},
     "output_type": "execute_result"
    }
   ],
   "source": [
    "# try first model\n",
    "model1 = LogisticRegression()\n",
    "scores = cross_val_score(model1, X_train, y_train, cv=5, scoring=\"roc_auc\")\n",
    "np.mean(scores), np.std(scores)"
   ]
  },
  {
   "cell_type": "code",
   "execution_count": 252,
   "id": "15dbdef7-aa33-49db-92da-422a8b73ee06",
   "metadata": {},
   "outputs": [
    {
     "data": {
      "text/plain": [
       "(0.6079673321234119, 0.03129196516091729)"
      ]
     },
     "execution_count": 252,
     "metadata": {},
     "output_type": "execute_result"
    }
   ],
   "source": [
    "# try second model\n",
    "model2 = DecisionTreeClassifier()\n",
    "scores = cross_val_score(model2, X_train, y_train, cv=5, scoring=\"roc_auc\")\n",
    "np.mean(scores), np.std(scores)"
   ]
  },
  {
   "cell_type": "code",
   "execution_count": 251,
   "id": "19942fcd-a4da-4ea4-9a9e-63810b415cdd",
   "metadata": {},
   "outputs": [
    {
     "data": {
      "text/plain": [
       "0.7247807017543859"
      ]
     },
     "execution_count": 251,
     "metadata": {},
     "output_type": "execute_result"
    }
   ],
   "source": [
    "# logistic regression is better, so retrain on the full training data an apply to test\n",
    "model1.fit(X_train, y_train)\n",
    "y_pred_proba = model1.predict_proba(X_test)\n",
    "roc_auc_score(y_test, y_pred_proba[:,1])"
   ]
  },
  {
   "cell_type": "markdown",
   "id": "aa091ef6-fc91-4b67-b733-41054a3dac5c",
   "metadata": {},
   "source": [
    "## Overfitting and underfitting"
   ]
  },
  {
   "cell_type": "code",
   "execution_count": 235,
   "id": "b7b15b32-8380-47b1-9d8d-00e98d67d4c5",
   "metadata": {},
   "outputs": [],
   "source": [
    "# note: these should have tried these models BEFORE EVER touching the test data"
   ]
  },
  {
   "cell_type": "code",
   "execution_count": 253,
   "id": "727bf5ba-0976-4a44-ad89-cbad7c795975",
   "metadata": {},
   "outputs": [
    {
     "data": {
      "text/plain": [
       "(0.780151240169389, 0.04627954877047133)"
      ]
     },
     "execution_count": 253,
     "metadata": {},
     "output_type": "execute_result"
    }
   ],
   "source": [
    "# try bagging which helps against overfitting (we currently don't overfit though, i.e., we do only get mediocre AUCs on the training data)\n",
    "from sklearn.ensemble import BaggingClassifier\n",
    "model3 = BaggingClassifier(LogisticRegression(), n_estimators=10)\n",
    "scores = cross_val_score(model3, X_train, y_train, cv=5, scoring=\"roc_auc\")\n",
    "np.mean(scores), np.std(scores)"
   ]
  },
  {
   "cell_type": "code",
   "execution_count": 254,
   "id": "019cc1b3-7266-4b6f-bc50-0e37d8bb18f7",
   "metadata": {},
   "outputs": [
    {
     "data": {
      "text/plain": [
       "(0.7396430732002419, 0.047999627403040805)"
      ]
     },
     "execution_count": 254,
     "metadata": {},
     "output_type": "execute_result"
    }
   ],
   "source": [
    "# try boosting which helps against underfitting and is relatively robust against overfitting\n",
    "from sklearn.ensemble import GradientBoostingClassifier\n",
    "model4 = GradientBoostingClassifier()\n",
    "scores = cross_val_score(model4, X_train, y_train, cv=5, scoring=\"roc_auc\")\n",
    "np.mean(scores), np.std(scores)"
   ]
  },
  {
   "cell_type": "markdown",
   "id": "596ebef7-9773-44d3-91fa-e279e63b277e",
   "metadata": {},
   "source": [
    "## Hyperparameters"
   ]
  },
  {
   "cell_type": "code",
   "execution_count": 234,
   "id": "56ef3f16-51c0-47d1-923a-5d447f5df016",
   "metadata": {},
   "outputs": [],
   "source": [
    "# note: these should have tried these models BEFORE EVER touching the test data"
   ]
  },
  {
   "cell_type": "code",
   "execution_count": 210,
   "id": "c6ec4a9b-0b3b-4bf1-82b9-bd297f5337dd",
   "metadata": {},
   "outputs": [
    {
     "data": {
      "text/plain": [
       "(0.7807924984875982, 0.045730353743235475)"
      ]
     },
     "execution_count": 210,
     "metadata": {},
     "output_type": "execute_result"
    }
   ],
   "source": [
    "# let's try logistic regression with ridge regularization\n",
    "from sklearn.linear_model import RidgeClassifier\n",
    "model5 = RidgeClassifier() \n",
    "scores = cross_val_score(model5, X_train, y_train, cv=5, scoring=\"roc_auc\")\n",
    "np.mean(scores), np.std(scores)"
   ]
  },
  {
   "cell_type": "code",
   "execution_count": 213,
   "id": "ebfd0e22-41ad-41ca-8a21-8b558fcec512",
   "metadata": {},
   "outputs": [
    {
     "data": {
      "text/plain": [
       "(0.7807924984875982, 0.045730353743235475)"
      ]
     },
     "execution_count": 213,
     "metadata": {},
     "output_type": "execute_result"
    }
   ],
   "source": [
    "# but ridge regression has a hyperparameter (how stronlgy regularization is taken into account [here: alpha, script: lambda])\n",
    "# let's automatically optimize it using an \"inner\" cross validation (automatically done by GridSearchCV)\n",
    "from sklearn.model_selection import GridSearchCV\n",
    "model6 = GridSearchCV(RidgeClassifier(), param_grid={\"alpha\": [0.1,0.3,0.5,0.7,0.9]})\n",
    "scores = cross_val_score(model5, X_train, y_train, cv=5, scoring=\"roc_auc\")\n",
    "np.mean(scores), np.std(scores)"
   ]
  },
  {
   "cell_type": "code",
   "execution_count": 216,
   "id": "f86ebff2-ed94-4c05-9680-f88a95d60c5d",
   "metadata": {},
   "outputs": [
    {
     "data": {
      "text/plain": [
       "RidgeClassifier(alpha=0.1)"
      ]
     },
     "execution_count": 216,
     "metadata": {},
     "output_type": "execute_result"
    }
   ],
   "source": [
    "# refit model on train and check the selected alpha parameter\n",
    "model6.fit(X_train, y_train)\n",
    "model6.best_estimator_"
   ]
  },
  {
   "cell_type": "code",
   "execution_count": 223,
   "id": "e8f214c0-e500-4537-8b47-3822b4e2649a",
   "metadata": {},
   "outputs": [
    {
     "data": {
      "text/plain": [
       "0.7247807017543859"
      ]
     },
     "execution_count": 223,
     "metadata": {},
     "output_type": "execute_result"
    }
   ],
   "source": [
    "y_pred_proba = model1.predict_proba(X_test)\n",
    "roc_auc_score(y_test, y_pred_proba[:,1])"
   ]
  },
  {
   "cell_type": "code",
   "execution_count": 221,
   "id": "9a7eaf9d-bd61-4b24-996d-87538eab1ab4",
   "metadata": {},
   "outputs": [
    {
     "data": {
      "text/plain": [
       "(0.6482577132486389, 0.05308526532953746)"
      ]
     },
     "execution_count": 221,
     "metadata": {},
     "output_type": "execute_result"
    }
   ],
   "source": [
    "# let's try parameter optimization for decision trees\n",
    "model7 = GridSearchCV(DecisionTreeClassifier(), param_grid={\"max_depth\": [2,4,8,16,32]})\n",
    "scores = cross_val_score(model7, X_train, y_train, cv=5, scoring=\"roc_auc\")\n",
    "np.mean(scores), np.std(scores)"
   ]
  },
  {
   "cell_type": "code",
   "execution_count": 225,
   "id": "c3e2d1ba-f558-4258-9377-8f3dc300e872",
   "metadata": {},
   "outputs": [
    {
     "data": {
      "text/plain": [
       "DecisionTreeClassifier(max_depth=4)"
      ]
     },
     "execution_count": 225,
     "metadata": {},
     "output_type": "execute_result"
    }
   ],
   "source": [
    "# refit model on train and check the selected alpha parameter\n",
    "model7.fit(X_train, y_train)\n",
    "model7.best_estimator_"
   ]
  },
  {
   "cell_type": "code",
   "execution_count": 238,
   "id": "b06cc460-f0b1-48ce-af3b-d009aa92e90c",
   "metadata": {},
   "outputs": [
    {
     "data": {
      "text/plain": [
       "0.6919298245614035"
      ]
     },
     "execution_count": 238,
     "metadata": {},
     "output_type": "execute_result"
    }
   ],
   "source": [
    "# observe how the optimized tree is actually better than when using a vanilla tree (see above) \n",
    "y_pred_proba = model7.predict_proba(X_test)\n",
    "roc_auc_score(y_test, y_pred_proba[:,1])"
   ]
  },
  {
   "cell_type": "code",
   "execution_count": null,
   "id": "e49997db-a585-4e28-8468-e6d900b6a024",
   "metadata": {},
   "outputs": [],
   "source": []
  }
 ],
 "metadata": {
  "kernelspec": {
   "display_name": "teaching-datascience",
   "language": "python",
   "name": "teaching-datascience"
  },
  "language_info": {
   "codemirror_mode": {
    "name": "ipython",
    "version": 3
   },
   "file_extension": ".py",
   "mimetype": "text/x-python",
   "name": "python",
   "nbconvert_exporter": "python",
   "pygments_lexer": "ipython3",
   "version": "3.10.6"
  }
 },
 "nbformat": 4,
 "nbformat_minor": 5
}
