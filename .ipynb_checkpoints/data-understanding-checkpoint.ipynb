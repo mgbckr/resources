{
 "cells": [
  {
   "cell_type": "markdown",
   "id": "a8ee79bd-200e-4ec0-88a8-dfff4a703663",
   "metadata": {},
   "source": [
    "# From raw data to data understanding"
   ]
  },
  {
   "cell_type": "code",
   "execution_count": null,
   "id": "ef51ec09-c33c-40be-a9d9-4005bd302b82",
   "metadata": {},
   "outputs": [],
   "source": [
    "# imports\n",
    "import numpy as np\n",
    "import pandas as pd\n",
    "import pathlib\n",
    "\n",
    "import matplotlib.pyplot as plt\n",
    "import seaborn as sns\n",
    "\n",
    "from sklearn.manifold import TSNE"
   ]
  },
  {
   "cell_type": "markdown",
   "id": "c8ab907b-700a-4ae6-8f82-8b9b1d39d4c0",
   "metadata": {},
   "source": [
    "## Load data"
   ]
  },
  {
   "cell_type": "code",
   "execution_count": null,
   "id": "927d0260-5f23-4b90-ab62-07d5302f86a1",
   "metadata": {},
   "outputs": [],
   "source": [
    "# load data\n",
    "data_titanic = pd.read_csv(\"titanic.csv\", index_col=\"PassengerId\")"
   ]
  },
  {
   "cell_type": "code",
   "execution_count": null,
   "id": "3004da25-ac9c-44c2-87b6-fbad97dbda4b",
   "metadata": {},
   "outputs": [],
   "source": [
    "data_titanic.head(5)"
   ]
  },
  {
   "cell_type": "markdown",
   "id": "c6d3f95e-c128-4726-9204-72ac57929590",
   "metadata": {},
   "source": [
    "## Data Description and exploration"
   ]
  },
  {
   "cell_type": "markdown",
   "id": "73d94fb2-fdac-4422-9a1a-dbe437e6d8f1",
   "metadata": {},
   "source": [
    "### Amount of data"
   ]
  },
  {
   "cell_type": "code",
   "execution_count": null,
   "id": "b9c30cf5-18f7-4427-b3c2-8d51b0a159da",
   "metadata": {},
   "outputs": [],
   "source": [
    "# size of the data\n",
    "n_samples, n_features = data_titanic.shape\n",
    "print(f\"Number of samples:  {n_samples}\")\n",
    "print(f\"Number of features: {n_features}\")"
   ]
  },
  {
   "cell_type": "markdown",
   "id": "4923b635-dd6e-4fc1-b166-3b5ddeec91cc",
   "metadata": {},
   "source": [
    "### Individual features"
   ]
  },
  {
   "cell_type": "markdown",
   "id": "c3c51a73-db48-43ee-ba67-8693754ec9a6",
   "metadata": {},
   "source": [
    "1) For data description, look for\n",
    "* Value types\n",
    "* Coding schemes\n",
    "* (Missing values)"
   ]
  },
  {
   "cell_type": "markdown",
   "id": "0c1165bd-1acd-4cb1-a4c2-ea7365da9ff1",
   "metadata": {},
   "source": [
    "2) For data exploration, visualize box plots / histograms."
   ]
  },
  {
   "cell_type": "markdown",
   "id": "8b2e12fb-15e0-4092-9c70-3205ebd379a4",
   "metadata": {},
   "source": [
    "#### Sex"
   ]
  },
  {
   "cell_type": "code",
   "execution_count": null,
   "id": "b1d830ea-58e9-4f66-8cbf-e1f5c90445ab",
   "metadata": {},
   "outputs": [],
   "source": [
    "# check values\n",
    "data_titanic[\"Sex\"].value_counts()"
   ]
  },
  {
   "cell_type": "code",
   "execution_count": null,
   "id": "c456a693-cb27-4c76-aae5-3afbf2195869",
   "metadata": {},
   "outputs": [],
   "source": [
    "# visualize values\n",
    "sns.histplot(data_titanic[\"Sex\"].astype(\"category\"))"
   ]
  },
  {
   "cell_type": "markdown",
   "id": "72c78acc-f820-471b-aacc-9be33403e24a",
   "metadata": {},
   "source": [
    "#### Age"
   ]
  },
  {
   "cell_type": "code",
   "execution_count": null,
   "id": "a361c1b8-125a-480a-9130-839d424fc67b",
   "metadata": {},
   "outputs": [],
   "source": [
    "# check values\n",
    "data_titanic[\"Age\"].value_counts()"
   ]
  },
  {
   "cell_type": "code",
   "execution_count": null,
   "id": "9ac8dda4-e385-4df5-8319-d6b76d94c84e",
   "metadata": {},
   "outputs": [],
   "source": [
    "# visualize values\n",
    "sns.histplot(data_titanic[\"Age\"])"
   ]
  },
  {
   "cell_type": "markdown",
   "id": "4c5b2b28-4984-4331-afd2-5e164b2bc77a",
   "metadata": {},
   "source": [
    "## Between samples"
   ]
  },
  {
   "cell_type": "markdown",
   "id": "3151eb58-ad54-440b-9fa3-539dff70ffef",
   "metadata": {},
   "source": [
    "### Create sample data"
   ]
  },
  {
   "cell_type": "code",
   "execution_count": null,
   "id": "0393010b-6fb4-43e9-9682-2299c5d74b32",
   "metadata": {},
   "outputs": [],
   "source": [
    "x = np.random.multivariate_normal([0,0], [[1,0], [0,1]], size=200)\n",
    "X = np.concatenate([\n",
    "    np.random.multivariate_normal([0,0], [[1,0], [0,1]], size=200) + [0,0],\n",
    "    np.random.multivariate_normal([0,0], [[1,0], [0,1]], size=200) + [0,10],\n",
    "    np.random.multivariate_normal([0,0], [[1,0], [0,1]], size=200) + [5,5],\n",
    "    np.random.multivariate_normal([0,0], [[1,0], [0,1]], size=200) + [12,5]])\n",
    "colors = np.repeat([1,2,3,4], 200)\n"
   ]
  },
  {
   "cell_type": "markdown",
   "id": "9a92cb40-bc0e-45d2-9c5c-9782671d18ac",
   "metadata": {},
   "source": [
    "### Visualize individual axes"
   ]
  },
  {
   "cell_type": "code",
   "execution_count": null,
   "id": "13d06391-9c26-435e-82c2-1f16dfe589ac",
   "metadata": {},
   "outputs": [],
   "source": [
    "plt.scatter(X[:,0], np.random.random(X.shape[0]), c=colors)"
   ]
  },
  {
   "cell_type": "markdown",
   "id": "fc106cb8-7652-46d6-ac12-56779b804278",
   "metadata": {},
   "source": [
    "### Dimensionality reduction"
   ]
  },
  {
   "cell_type": "code",
   "execution_count": null,
   "id": "933664a4-9e15-4e05-a3df-f0b477710d32",
   "metadata": {},
   "outputs": [],
   "source": [
    "emb = TSNE(n_components=1).fit_transform(X)\n",
    "plt.scatter(emb, np.random.random(X.shape[0]), c=colors)"
   ]
  },
  {
   "cell_type": "code",
   "execution_count": null,
   "id": "5ae6a550-b92f-4c08-8afb-1aca2df207b6",
   "metadata": {},
   "outputs": [],
   "source": []
  }
 ],
 "metadata": {
  "kernelspec": {
   "display_name": "teaching-datascience",
   "language": "python",
   "name": "teaching-datascience"
  },
  "language_info": {
   "codemirror_mode": {
    "name": "ipython",
    "version": 3
   },
   "file_extension": ".py",
   "mimetype": "text/x-python",
   "name": "python",
   "nbconvert_exporter": "python",
   "pygments_lexer": "ipython3",
   "version": "3.10.6"
  },
  "toc-autonumbering": true
 },
 "nbformat": 4,
 "nbformat_minor": 5
}
